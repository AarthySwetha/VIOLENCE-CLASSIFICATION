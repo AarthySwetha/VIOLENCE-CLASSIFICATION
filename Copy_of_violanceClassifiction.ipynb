{
  "metadata": {
    "kernelspec": {
      "language": "python",
      "display_name": "Python 3",
      "name": "python3"
    },
    "language_info": {
      "name": "python",
      "version": "3.10.12",
      "mimetype": "text/x-python",
      "codemirror_mode": {
        "name": "ipython",
        "version": 3
      },
      "pygments_lexer": "ipython3",
      "nbconvert_exporter": "python",
      "file_extension": ".py"
    },
    "kaggle": {
      "accelerator": "none",
      "dataSources": [
        {
          "sourceId": 7312675,
          "sourceType": "datasetVersion",
          "datasetId": 2151340
        }
      ],
      "dockerImageVersionId": 30822,
      "isInternetEnabled": true,
      "language": "python",
      "sourceType": "notebook",
      "isGpuEnabled": false
    },
    "colab": {
      "provenance": [],
      "include_colab_link": true
    }
  },
  "nbformat_minor": 0,
  "nbformat": 4,
  "cells": [
    {
      "cell_type": "markdown",
      "metadata": {
        "id": "view-in-github",
        "colab_type": "text"
      },
      "source": [
        "<a href=\"https://colab.research.google.com/github/AarthySwetha/VIOLENCE-CLASSIFICATION/blob/main/Copy_of_violanceClassifiction.ipynb\" target=\"_parent\"><img src=\"https://colab.research.google.com/assets/colab-badge.svg\" alt=\"Open In Colab\"/></a>"
      ]
    },
    {
      "source": [
        "# IMPORTANT: RUN THIS CELL IN ORDER TO IMPORT YOUR KAGGLE DATA SOURCES,\n",
        "# THEN FEEL FREE TO DELETE THIS CELL.\n",
        "# NOTE: THIS NOTEBOOK ENVIRONMENT DIFFERS FROM KAGGLE'S PYTHON\n",
        "# ENVIRONMENT SO THERE MAY BE MISSING LIBRARIES USED BY YOUR\n",
        "# NOTEBOOK.\n",
        "import kagglehub\n",
        "toluwaniaremu_smartcity_cctv_violence_detection_dataset_scvd_path = kagglehub.dataset_download('toluwaniaremu/smartcity-cctv-violence-detection-dataset-scvd')\n",
        "\n",
        "print('Data source import complete.')\n"
      ],
      "metadata": {
        "id": "GUDYxpdc8xHq",
        "outputId": "ef4cfbb8-c19a-41c5-b332-5fa3c950235d",
        "colab": {
          "base_uri": "https://localhost:8080/"
        }
      },
      "cell_type": "code",
      "outputs": [
        {
          "output_type": "stream",
          "name": "stdout",
          "text": [
            "Downloading from https://www.kaggle.com/api/v1/datasets/download/toluwaniaremu/smartcity-cctv-violence-detection-dataset-scvd?dataset_version_number=3...\n"
          ]
        },
        {
          "output_type": "stream",
          "name": "stderr",
          "text": [
            "100%|██████████| 1.03G/1.03G [00:17<00:00, 64.2MB/s]"
          ]
        },
        {
          "output_type": "stream",
          "name": "stdout",
          "text": [
            "Extracting files...\n"
          ]
        },
        {
          "output_type": "stream",
          "name": "stderr",
          "text": [
            "\n"
          ]
        },
        {
          "output_type": "stream",
          "name": "stdout",
          "text": [
            "Data source import complete.\n"
          ]
        }
      ],
      "execution_count": null
    },
    {
      "cell_type": "code",
      "source": [
        "import pandas as pd\n",
        "import os\n",
        "import cv2\n",
        "import matplotlib.pyplot as plt\n",
        "import seaborn as sns"
      ],
      "metadata": {
        "trusted": true,
        "id": "OxY4edZe8xHs"
      },
      "outputs": [],
      "execution_count": null
    },
    {
      "cell_type": "code",
      "source": [
        "train_path = \"/kaggle/input/smartcity-cctv-violence-detection-dataset-scvd/SCVD/SCVD_converted/Train\"\n",
        "test_path = \"/kaggle/input/smartcity-cctv-violence-detection-dataset-scvd/SCVD/SCVD_converted/Test\""
      ],
      "metadata": {
        "trusted": true,
        "id": "YXD5FE0R8xHs"
      },
      "outputs": [],
      "execution_count": null
    },
    {
      "cell_type": "code",
      "source": [
        "import kagglehub\n",
        "\n",
        "# Download latest version\n",
        "path = kagglehub.dataset_download(\"/kaggle/input/smartcity-cctv-violence-detection-dataset-scvd\")\n",
        "\n",
        "print(\"Path to dataset files:\", path)"
      ],
      "metadata": {
        "id": "QgEBsyNUB7vz",
        "outputId": "a008458b-8153-4295-b86b-7af18b7c1cee",
        "colab": {
          "base_uri": "https://localhost:8080/"
        }
      },
      "execution_count": null,
      "outputs": [
        {
          "output_type": "stream",
          "name": "stdout",
          "text": [
            "Path to dataset files: /kaggle/input/smartcity-cctv-violence-detection-dataset-scvd\n"
          ]
        }
      ]
    },
    {
      "cell_type": "code",
      "source": [
        "train_path = '/kaggle/input/smartcity-cctv-violence-detection-dataset-scvd/SCVD/SCVD_converted/Train'\n",
        "weaponized_path = os.path.join(train_path, \"Weaponized\")\n",
        "violence_path = os.path.join(train_path, \"Violence\")\n",
        "normal_path = os.path.join(train_path, \"Normal\")\n",
        "\n",
        "# Check if the directories exist\n",
        "print(os.path.exists(weaponized_path))  # This will return True if the directory exists\n",
        "print(os.path.exists(violence_path))\n",
        "print(os.path.exists(normal_path))\n",
        "\n",
        "# If directories exist, list their contents\n",
        "if os.path.exists(weaponized_path):\n",
        "    print(os.listdir(weaponized_path))\n"
      ],
      "metadata": {
        "id": "CFa7x-6H-1Oz",
        "outputId": "6c430230-dbc5-4bab-e07c-0358cf421fc4",
        "colab": {
          "base_uri": "https://localhost:8080/"
        }
      },
      "execution_count": null,
      "outputs": [
        {
          "output_type": "stream",
          "name": "stdout",
          "text": [
            "False\n",
            "False\n",
            "False\n"
          ]
        }
      ]
    },
    {
      "cell_type": "code",
      "source": [
        "waeponPaths = [os.path.join(train_path, \"Weaponized\", vidPath) for vidPath in os.listdir(os.path.join(train_path, \"Weaponized\")) ]\n",
        "violPaths = [os.path.join(train_path, \"Violence\", vidPath) for vidPath in os.listdir(os.path.join(train_path, \"Violence\")) ]\n",
        "norPaths = [os.path.join(train_path, \"Normal\", vidPath) for vidPath in os.listdir(os.path.join(train_path, \"Normal\")) ]"
      ],
      "metadata": {
        "trusted": true,
        "id": "2hR9xlMv8xHs",
        "outputId": "10594fc8-8f13-4b0a-9ba9-128cd365e817",
        "colab": {
          "base_uri": "https://localhost:8080/",
          "height": 176
        }
      },
      "outputs": [
        {
          "output_type": "error",
          "ename": "FileNotFoundError",
          "evalue": "[Errno 2] No such file or directory: '/kaggle/input/smartcity-cctv-violence-detection-dataset-scvd/SCVD/SCVD_converted/Train/Weaponized'",
          "traceback": [
            "\u001b[0;31m---------------------------------------------------------------------------\u001b[0m",
            "\u001b[0;31mFileNotFoundError\u001b[0m                         Traceback (most recent call last)",
            "\u001b[0;32m<ipython-input-4-eec05a9a7fb3>\u001b[0m in \u001b[0;36m<cell line: 0>\u001b[0;34m()\u001b[0m\n\u001b[0;32m----> 1\u001b[0;31m \u001b[0mwaeponPaths\u001b[0m \u001b[0;34m=\u001b[0m \u001b[0;34m[\u001b[0m\u001b[0mos\u001b[0m\u001b[0;34m.\u001b[0m\u001b[0mpath\u001b[0m\u001b[0;34m.\u001b[0m\u001b[0mjoin\u001b[0m\u001b[0;34m(\u001b[0m\u001b[0mtrain_path\u001b[0m\u001b[0;34m,\u001b[0m \u001b[0;34m\"Weaponized\"\u001b[0m\u001b[0;34m,\u001b[0m \u001b[0mvidPath\u001b[0m\u001b[0;34m)\u001b[0m \u001b[0;32mfor\u001b[0m \u001b[0mvidPath\u001b[0m \u001b[0;32min\u001b[0m \u001b[0mos\u001b[0m\u001b[0;34m.\u001b[0m\u001b[0mlistdir\u001b[0m\u001b[0;34m(\u001b[0m\u001b[0mos\u001b[0m\u001b[0;34m.\u001b[0m\u001b[0mpath\u001b[0m\u001b[0;34m.\u001b[0m\u001b[0mjoin\u001b[0m\u001b[0;34m(\u001b[0m\u001b[0mtrain_path\u001b[0m\u001b[0;34m,\u001b[0m \u001b[0;34m\"Weaponized\"\u001b[0m\u001b[0;34m)\u001b[0m\u001b[0;34m)\u001b[0m \u001b[0;34m]\u001b[0m\u001b[0;34m\u001b[0m\u001b[0;34m\u001b[0m\u001b[0m\n\u001b[0m\u001b[1;32m      2\u001b[0m \u001b[0mviolPaths\u001b[0m \u001b[0;34m=\u001b[0m \u001b[0;34m[\u001b[0m\u001b[0mos\u001b[0m\u001b[0;34m.\u001b[0m\u001b[0mpath\u001b[0m\u001b[0;34m.\u001b[0m\u001b[0mjoin\u001b[0m\u001b[0;34m(\u001b[0m\u001b[0mtrain_path\u001b[0m\u001b[0;34m,\u001b[0m \u001b[0;34m\"Violence\"\u001b[0m\u001b[0;34m,\u001b[0m \u001b[0mvidPath\u001b[0m\u001b[0;34m)\u001b[0m \u001b[0;32mfor\u001b[0m \u001b[0mvidPath\u001b[0m \u001b[0;32min\u001b[0m \u001b[0mos\u001b[0m\u001b[0;34m.\u001b[0m\u001b[0mlistdir\u001b[0m\u001b[0;34m(\u001b[0m\u001b[0mos\u001b[0m\u001b[0;34m.\u001b[0m\u001b[0mpath\u001b[0m\u001b[0;34m.\u001b[0m\u001b[0mjoin\u001b[0m\u001b[0;34m(\u001b[0m\u001b[0mtrain_path\u001b[0m\u001b[0;34m,\u001b[0m \u001b[0;34m\"Violence\"\u001b[0m\u001b[0;34m)\u001b[0m\u001b[0;34m)\u001b[0m \u001b[0;34m]\u001b[0m\u001b[0;34m\u001b[0m\u001b[0;34m\u001b[0m\u001b[0m\n\u001b[1;32m      3\u001b[0m \u001b[0mnorPaths\u001b[0m \u001b[0;34m=\u001b[0m \u001b[0;34m[\u001b[0m\u001b[0mos\u001b[0m\u001b[0;34m.\u001b[0m\u001b[0mpath\u001b[0m\u001b[0;34m.\u001b[0m\u001b[0mjoin\u001b[0m\u001b[0;34m(\u001b[0m\u001b[0mtrain_path\u001b[0m\u001b[0;34m,\u001b[0m \u001b[0;34m\"Normal\"\u001b[0m\u001b[0;34m,\u001b[0m \u001b[0mvidPath\u001b[0m\u001b[0;34m)\u001b[0m \u001b[0;32mfor\u001b[0m \u001b[0mvidPath\u001b[0m \u001b[0;32min\u001b[0m \u001b[0mos\u001b[0m\u001b[0;34m.\u001b[0m\u001b[0mlistdir\u001b[0m\u001b[0;34m(\u001b[0m\u001b[0mos\u001b[0m\u001b[0;34m.\u001b[0m\u001b[0mpath\u001b[0m\u001b[0;34m.\u001b[0m\u001b[0mjoin\u001b[0m\u001b[0;34m(\u001b[0m\u001b[0mtrain_path\u001b[0m\u001b[0;34m,\u001b[0m \u001b[0;34m\"Normal\"\u001b[0m\u001b[0;34m)\u001b[0m\u001b[0;34m)\u001b[0m \u001b[0;34m]\u001b[0m\u001b[0;34m\u001b[0m\u001b[0;34m\u001b[0m\u001b[0m\n",
            "\u001b[0;31mFileNotFoundError\u001b[0m: [Errno 2] No such file or directory: '/kaggle/input/smartcity-cctv-violence-detection-dataset-scvd/SCVD/SCVD_converted/Train/Weaponized'"
          ]
        }
      ],
      "execution_count": null
    },
    {
      "cell_type": "code",
      "source": [
        "labels = os.listdir(train_path)\n",
        "print(\"Labels are \", labels)"
      ],
      "metadata": {
        "trusted": true,
        "id": "GBHX9zQi8xHt",
        "outputId": "d737545f-f9af-448f-c963-75851bc7ac32",
        "colab": {
          "base_uri": "https://localhost:8080/",
          "height": 159
        }
      },
      "outputs": [
        {
          "output_type": "error",
          "ename": "FileNotFoundError",
          "evalue": "[Errno 2] No such file or directory: '/kaggle/input/smartcity-cctv-violence-detection-dataset-scvd/SCVD/SCVD_converted/Train'",
          "traceback": [
            "\u001b[0;31m---------------------------------------------------------------------------\u001b[0m",
            "\u001b[0;31mFileNotFoundError\u001b[0m                         Traceback (most recent call last)",
            "\u001b[0;32m<ipython-input-6-9b3729240457>\u001b[0m in \u001b[0;36m<cell line: 0>\u001b[0;34m()\u001b[0m\n\u001b[0;32m----> 1\u001b[0;31m \u001b[0mlabels\u001b[0m \u001b[0;34m=\u001b[0m \u001b[0mos\u001b[0m\u001b[0;34m.\u001b[0m\u001b[0mlistdir\u001b[0m\u001b[0;34m(\u001b[0m\u001b[0mtrain_path\u001b[0m\u001b[0;34m)\u001b[0m\u001b[0;34m\u001b[0m\u001b[0;34m\u001b[0m\u001b[0m\n\u001b[0m\u001b[1;32m      2\u001b[0m \u001b[0mprint\u001b[0m\u001b[0;34m(\u001b[0m\u001b[0;34m\"Labels are \"\u001b[0m\u001b[0;34m,\u001b[0m \u001b[0mlabels\u001b[0m\u001b[0;34m)\u001b[0m\u001b[0;34m\u001b[0m\u001b[0;34m\u001b[0m\u001b[0m\n",
            "\u001b[0;31mFileNotFoundError\u001b[0m: [Errno 2] No such file or directory: '/kaggle/input/smartcity-cctv-violence-detection-dataset-scvd/SCVD/SCVD_converted/Train'"
          ]
        }
      ],
      "execution_count": null
    },
    {
      "cell_type": "code",
      "source": [
        "countPerLabel = {}\n",
        "for label in labels :\n",
        "    class_path = os.path.join(train_path, label)\n",
        "    samples_num = len(os.listdir(class_path))\n",
        "    countPerLabel[label] = samples_num"
      ],
      "metadata": {
        "trusted": true,
        "id": "AV3UKgT_8xHt"
      },
      "outputs": [],
      "execution_count": null
    },
    {
      "cell_type": "code",
      "source": [
        "print(\"Number of videos have waepon = \", countPerLabel[\"Weaponized\"])\n",
        "print(\"Number of videos have violence = \", countPerLabel[\"Violence\"])\n",
        "print(\"Number of videos are normal = \", countPerLabel[\"Normal\"])"
      ],
      "metadata": {
        "trusted": true,
        "id": "fJUr5HKf8xHt"
      },
      "outputs": [],
      "execution_count": null
    },
    {
      "cell_type": "code",
      "source": [
        "def getVideoProp(videosPaths, prop):\n",
        "    propEachVideo = []\n",
        "    for videoPath in videosPaths:\n",
        "        cap = cv2.VideoCapture(videoPath)\n",
        "        videoProp = cap.get(prop)\n",
        "        propEachVideo.append(videoProp)\n",
        "    return propEachVideo"
      ],
      "metadata": {
        "trusted": true,
        "id": "8HNlPT5I8xHt"
      },
      "outputs": [],
      "execution_count": null
    },
    {
      "cell_type": "code",
      "source": [
        "framesPerWeapVid = getVideoProp(waeponPaths, cv2.CAP_PROP_FRAME_COUNT)\n",
        "framesPerViolVid = getVideoProp(violPaths, cv2.CAP_PROP_FRAME_COUNT)\n",
        "framePerNorVid = getVideoProp(norPaths, cv2.CAP_PROP_FRAME_COUNT)"
      ],
      "metadata": {
        "trusted": true,
        "id": "L2IGQf9X8xHt"
      },
      "outputs": [],
      "execution_count": null
    },
    {
      "cell_type": "code",
      "source": [
        "def plot_vidInfo(title, color, size, infoList, ax ):\n",
        "    sns.histplot(infoList, ax = axes[ax], color = color)\n",
        "    axes[ax].set_title(title, color = color, size = size)"
      ],
      "metadata": {
        "trusted": true,
        "id": "oXNzQ6bk8xHu"
      },
      "outputs": [],
      "execution_count": null
    },
    {
      "cell_type": "code",
      "source": [
        "fig, axes = plt.subplots(nrows = 1, ncols = 3, figsize = (20, 8))\n",
        "# Waepon videos frames count\n",
        "plot_vidInfo(\"FramesCount Of Waepon\", \"red\", 20, framesPerWeapVid, 0 )\n",
        "# Violence videos frames count\n",
        "plot_vidInfo(\"FramesCount Of Violence\",  \"orange\",  20, framesPerViolVid, 1 )\n",
        "# Normal videos frames count\n",
        "plot_vidInfo(\"FramesCount Of Normal\",\"green\",  20, framePerNorVid, 2)\n"
      ],
      "metadata": {
        "trusted": true,
        "id": "cftkc7es8xHu"
      },
      "outputs": [],
      "execution_count": null
    },
    {
      "cell_type": "code",
      "source": [
        "weapVidFPS = getVideoProp(waeponPaths, cv2.CAP_PROP_FPS)\n",
        "ViolVidFPS = getVideoProp(violPaths, cv2.CAP_PROP_FPS)\n",
        "NorVidFPS = getVideoProp(norPaths, cv2.CAP_PROP_FPS)"
      ],
      "metadata": {
        "trusted": true,
        "execution": {
          "iopub.status.busy": "2024-12-21T12:26:24.52516Z",
          "iopub.execute_input": "2024-12-21T12:26:24.525838Z",
          "iopub.status.idle": "2024-12-21T12:26:25.281911Z",
          "shell.execute_reply.started": "2024-12-21T12:26:24.525785Z",
          "shell.execute_reply": "2024-12-21T12:26:25.280731Z"
        },
        "id": "e8SmYeic8xHu"
      },
      "outputs": [],
      "execution_count": null
    },
    {
      "cell_type": "code",
      "source": [
        "fig, axes = plt.subplots(nrows = 1, ncols = 3, figsize = (20, 8))\n",
        "# Waepon videos frames count\n",
        "plot_vidInfo(\"FPS Of Waepon\", \"red\", 20, weapVidFPS, 0 )\n",
        "# Violence videos frames count\n",
        "plot_vidInfo(\"FPS Of Violence\",  \"orange\",  20, ViolVidFPS, 1 )\n",
        "# Normal videos frames count\n",
        "plot_vidInfo(\"FPS Of Normal\",\"green\",  20, NorVidFPS, 2)\n"
      ],
      "metadata": {
        "trusted": true,
        "execution": {
          "execution_failed": "2024-12-21T13:17:05.064Z"
        },
        "id": "xvSk9gJE8xHu"
      },
      "outputs": [],
      "execution_count": null
    }
  ]
}